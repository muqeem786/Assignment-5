{
 "cells": [
  {
   "cell_type": "code",
   "execution_count": 1,
   "id": "0700459d-cb10-4b60-9ebc-4650a6e4553b",
   "metadata": {},
   "outputs": [],
   "source": [
    "# Question 1 - Create a python program to sort the given list of tuples based on integer value using a lambda function.\n",
    "#[('Sachin Tendulkar',34357),('Ricky Pointing' , 27483),('Jack Kallis',25534),('Virat Kohli',24936)]"
   ]
  },
  {
   "cell_type": "code",
   "execution_count": 2,
   "id": "17359e39-faef-4cdb-9830-a0875174a4ed",
   "metadata": {},
   "outputs": [
    {
     "name": "stdout",
     "output_type": "stream",
     "text": [
      "Original list of tuples\n",
      "[('Sachin Tendulkar', 34357), ('Ricky Pointing', 27483), ('Jack Kallis', 25524), ('Virat Kohli', 24936)]\n",
      "\n",
      "Sorting thr List of Tuples:\n",
      "[('Virat Kohli', 24936), ('Jack Kallis', 25524), ('Ricky Pointing', 27483), ('Sachin Tendulkar', 34357)]\n"
     ]
    }
   ],
   "source": [
    "#Answer\n",
    "list_m = [('Sachin Tendulkar',34357),('Ricky Pointing',27483),('Jack Kallis',25524),('Virat Kohli',24936)]\n",
    "print(\"Original list of tuples\")\n",
    "print(list_m)\n",
    "list_m.sort(key = lambda x:x[1])\n",
    "print(\"\\nSorting thr List of Tuples:\")\n",
    "print(list_m)"
   ]
  },
  {
   "cell_type": "code",
   "execution_count": 4,
   "id": "07076bec-28b0-4fb1-818c-fb3f4730c8a3",
   "metadata": {},
   "outputs": [],
   "source": [
    "# Question 2 - Write a python program to find the square of all numbers in the given list of integers using lambda and map functions.\n",
    "#[1,2,3,4,5,6,7,8,9,10]"
   ]
  },
  {
   "cell_type": "code",
   "execution_count": 5,
   "id": "1e06a33f-c1fa-46dd-8161-08dc4af5d629",
   "metadata": {},
   "outputs": [],
   "source": [
    "#Answer\n",
    "l = [1,2,3,4,5,6,7,8,9,10]"
   ]
  },
  {
   "cell_type": "code",
   "execution_count": 6,
   "id": "25915fd7-6886-4195-b49d-0f4c08209103",
   "metadata": {},
   "outputs": [
    {
     "data": {
      "text/plain": [
       "[1, 4, 9, 16, 25, 36, 49, 64, 81, 100]"
      ]
     },
     "execution_count": 6,
     "metadata": {},
     "output_type": "execute_result"
    }
   ],
   "source": [
    "list(map(lambda x : x**2,l))"
   ]
  },
  {
   "cell_type": "code",
   "execution_count": 7,
   "id": "551a05fe-181c-42e1-b465-edc26feb54be",
   "metadata": {},
   "outputs": [],
   "source": [
    "# Question 3 - Write a python program to convert the given list of integers into a touple of string.Use map and lambda functions.\n",
    "# Given string: [1,2,3,4,5,6,7,8,9,10]"
   ]
  },
  {
   "cell_type": "code",
   "execution_count": 8,
   "id": "327dd29c-2e80-4ccc-ade2-aed1ddf4fd64",
   "metadata": {},
   "outputs": [],
   "source": [
    "#Answer\n",
    "l1 = [1,2,3,4,5,6,7,8,9,10]"
   ]
  },
  {
   "cell_type": "code",
   "execution_count": 9,
   "id": "e4615785-d0fe-47ca-b722-487f20badfb5",
   "metadata": {},
   "outputs": [
    {
     "data": {
      "text/plain": [
       "('1', '2', '3', '4', '5', '6', '7', '8', '9', '10')"
      ]
     },
     "execution_count": 9,
     "metadata": {},
     "output_type": "execute_result"
    }
   ],
   "source": [
    "tuple(map(lambda x :f\"{x}\" ,l1))"
   ]
  },
  {
   "cell_type": "code",
   "execution_count": 10,
   "id": "cb7f4dfc-27ad-4c82-bbc0-9821a09c34a9",
   "metadata": {},
   "outputs": [],
   "source": [
    "# Question 4 - Write a python program using reduce function to compute the product of a list containing number from 1 to 25"
   ]
  },
  {
   "cell_type": "code",
   "execution_count": 11,
   "id": "f6cacfb8-5cc5-4a2a-b3c8-bac485b3b67e",
   "metadata": {},
   "outputs": [],
   "source": [
    "#Answer\n",
    "from functools import reduce"
   ]
  },
  {
   "cell_type": "code",
   "execution_count": 12,
   "id": "0404b0a6-4a5d-41ff-8564-6870e238a780",
   "metadata": {},
   "outputs": [],
   "source": [
    "l = list(range(1,26))"
   ]
  },
  {
   "cell_type": "code",
   "execution_count": 13,
   "id": "58e97602-7498-4767-8f08-3e516bdd5db5",
   "metadata": {},
   "outputs": [
    {
     "data": {
      "text/plain": [
       "[1,\n",
       " 2,\n",
       " 3,\n",
       " 4,\n",
       " 5,\n",
       " 6,\n",
       " 7,\n",
       " 8,\n",
       " 9,\n",
       " 10,\n",
       " 11,\n",
       " 12,\n",
       " 13,\n",
       " 14,\n",
       " 15,\n",
       " 16,\n",
       " 17,\n",
       " 18,\n",
       " 19,\n",
       " 20,\n",
       " 21,\n",
       " 22,\n",
       " 23,\n",
       " 24,\n",
       " 25]"
      ]
     },
     "execution_count": 13,
     "metadata": {},
     "output_type": "execute_result"
    }
   ],
   "source": [
    "l"
   ]
  },
  {
   "cell_type": "code",
   "execution_count": 14,
   "id": "94c38b75-b502-425b-b324-8c8caba5553a",
   "metadata": {},
   "outputs": [
    {
     "data": {
      "text/plain": [
       "15511210043330985984000000"
      ]
     },
     "execution_count": 14,
     "metadata": {},
     "output_type": "execute_result"
    }
   ],
   "source": [
    "reduce(lambda x , y: x*y ,l)"
   ]
  },
  {
   "cell_type": "code",
   "execution_count": 15,
   "id": "bebd65b5-fbeb-4a53-b53a-b66d0e98ab9c",
   "metadata": {},
   "outputs": [],
   "source": [
    "# Question 5 - Write a python program to filter the number in a given list that are divisible by 2 and 3 using the filter function\n",
    "# [2,3,6,9,27,60,90,120,55,46]"
   ]
  },
  {
   "cell_type": "code",
   "execution_count": 16,
   "id": "fd0f73f6-c9ae-4ea9-9335-71a9641afba9",
   "metadata": {},
   "outputs": [],
   "source": [
    "#Answer\n",
    "l2 = [2,3,6,9,27,60,90,120,55,46]"
   ]
  },
  {
   "cell_type": "code",
   "execution_count": 17,
   "id": "aec96c2d-f5dd-4f32-bb17-47fdb8f44450",
   "metadata": {},
   "outputs": [
    {
     "data": {
      "text/plain": [
       "[6, 60, 90, 120]"
      ]
     },
     "execution_count": 17,
     "metadata": {},
     "output_type": "execute_result"
    }
   ],
   "source": [
    "list(filter(lambda x : x%2==0 and x%3==0,l2))"
   ]
  },
  {
   "cell_type": "code",
   "execution_count": 18,
   "id": "34a39361-15c1-48bb-b182-19b62cc3fd09",
   "metadata": {},
   "outputs": [],
   "source": [
    "# Question 6 - Write a python program to find pallindromes in the given list of strings using lambda and filter function\n",
    "#['python','php','aba','radar','level']"
   ]
  },
  {
   "cell_type": "code",
   "execution_count": 19,
   "id": "2e44b139-3a42-4f99-88bf-7ec1dc444c4d",
   "metadata": {},
   "outputs": [],
   "source": [
    "#Answer\n",
    "list1 = ['python','php','aba','radar','level']\n",
    "palindrome_list = list(filter(lambda word: "
   ]
  },
  {
   "cell_type": "code",
   "execution_count": 21,
   "id": "2ebf733f-b305-451f-bfc3-0695b1ddbdd7",
   "metadata": {},
   "outputs": [
    {
     "name": "stdout",
     "output_type": "stream",
     "text": [
      "['python', 'php', 'aba', 'radar', 'level']\n"
     ]
    }
   ],
   "source": [
    "palindrome_list = list(filter(lambda word : word[::-1],l3))\n",
    "print(palindrome_list)"
   ]
  },
  {
   "cell_type": "code",
   "execution_count": null,
   "id": "b6fb8dd4-e235-4f97-94d3-a500ce34ac7e",
   "metadata": {},
   "outputs": [],
   "source": []
  }
 ],
 "metadata": {
  "kernelspec": {
   "display_name": "Python 3 (ipykernel)",
   "language": "python",
   "name": "python3"
  },
  "language_info": {
   "codemirror_mode": {
    "name": "ipython",
    "version": 3
   },
   "file_extension": ".py",
   "mimetype": "text/x-python",
   "name": "python",
   "nbconvert_exporter": "python",
   "pygments_lexer": "ipython3",
   "version": "3.10.8"
  }
 },
 "nbformat": 4,
 "nbformat_minor": 5
}
